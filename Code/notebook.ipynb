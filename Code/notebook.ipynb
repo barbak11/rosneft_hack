{
 "cells": [
  {
   "cell_type": "code",
   "execution_count": 42,
   "metadata": {},
   "outputs": [],
   "source": [
    "import numpy as np\n",
    "\n",
    "from sklearn.neighbors import KNeighborsRegressor\n",
    "from sklearn.dummy import DummyRegressor\n",
    "from sklearn.model_selection import KFold\n",
    "from sklearn.metrics import mean_absolute_error, mean_absolute_percentage_error\n",
    "from sklearn.preprocessing import PolynomialFeatures, Normalizer\n",
    "from sklearn.linear_model import LinearRegression, Ridge, SGDRegressor\n",
    "from sklearn.impute import SimpleImputer\n",
    "\n",
    "import pandas as pd\n",
    "import geopandas as gpd\n",
    "\n",
    "import matplotlib.pyplot as plt\n",
    "\n",
    "from catboost import CatBoostRegressor\n",
    "import lightgbm as lgb\n",
    "\n",
    "from main import import_dataset_from_file, export_dataset_to_file"
   ]
  },
  {
   "cell_type": "code",
   "execution_count": 43,
   "metadata": {},
   "outputs": [],
   "source": [
    "data_path = '../Data/'\n",
    "\n",
    "# Вспомогательные данные, по которым производится моделирование\n",
    "map_1_dataset = import_dataset_from_file(data_path + \"/Map_1.txt\")\n",
    "map_2_dataset = import_dataset_from_file(data_path + \"/Map_2.txt\")\n",
    "map_3_dataset = import_dataset_from_file(data_path + \"/Map_3.txt\")\n",
    "map_4_dataset = import_dataset_from_file(data_path + \"/Map_4.txt\")\n",
    "map_5_dataset = import_dataset_from_file(data_path + \"/Map_5.txt\")\n",
    "\n",
    "# Данные, по которым необходимо смоделировать\n",
    "point_dataset = import_dataset_from_file(data_path + \"/Point_dataset.txt\")\n",
    "\n",
    "# Точки данных, в которые необходимо провести моделирование (сетка данных)\n",
    "point_grid = import_dataset_from_file(data_path + \"/Result_schedule.txt\")"
   ]
  },
  {
   "cell_type": "code",
   "execution_count": 3,
   "metadata": {},
   "outputs": [
    {
     "data": {
      "text/html": [
       "<div>\n",
       "<style scoped>\n",
       "    .dataframe tbody tr th:only-of-type {\n",
       "        vertical-align: middle;\n",
       "    }\n",
       "\n",
       "    .dataframe tbody tr th {\n",
       "        vertical-align: top;\n",
       "    }\n",
       "\n",
       "    .dataframe thead th {\n",
       "        text-align: right;\n",
       "    }\n",
       "</style>\n",
       "<table border=\"1\" class=\"dataframe\">\n",
       "  <thead>\n",
       "    <tr style=\"text-align: right;\">\n",
       "      <th></th>\n",
       "      <th>x</th>\n",
       "      <th>y</th>\n",
       "      <th>z</th>\n",
       "    </tr>\n",
       "  </thead>\n",
       "  <tbody>\n",
       "    <tr>\n",
       "      <th>0</th>\n",
       "      <td>44222.21</td>\n",
       "      <td>35600.90</td>\n",
       "      <td>14.974396</td>\n",
       "    </tr>\n",
       "    <tr>\n",
       "      <th>1</th>\n",
       "      <td>60003.40</td>\n",
       "      <td>26172.72</td>\n",
       "      <td>14.078868</td>\n",
       "    </tr>\n",
       "    <tr>\n",
       "      <th>2</th>\n",
       "      <td>44300.61</td>\n",
       "      <td>35291.79</td>\n",
       "      <td>14.261570</td>\n",
       "    </tr>\n",
       "    <tr>\n",
       "      <th>3</th>\n",
       "      <td>52776.47</td>\n",
       "      <td>33453.18</td>\n",
       "      <td>15.347562</td>\n",
       "    </tr>\n",
       "    <tr>\n",
       "      <th>4</th>\n",
       "      <td>49636.39</td>\n",
       "      <td>30697.34</td>\n",
       "      <td>14.422570</td>\n",
       "    </tr>\n",
       "    <tr>\n",
       "      <th>...</th>\n",
       "      <td>...</td>\n",
       "      <td>...</td>\n",
       "      <td>...</td>\n",
       "    </tr>\n",
       "    <tr>\n",
       "      <th>436</th>\n",
       "      <td>65193.40</td>\n",
       "      <td>26832.74</td>\n",
       "      <td>9.374795</td>\n",
       "    </tr>\n",
       "    <tr>\n",
       "      <th>437</th>\n",
       "      <td>50022.04</td>\n",
       "      <td>40606.42</td>\n",
       "      <td>7.636603</td>\n",
       "    </tr>\n",
       "    <tr>\n",
       "      <th>438</th>\n",
       "      <td>43745.18</td>\n",
       "      <td>35114.25</td>\n",
       "      <td>14.622497</td>\n",
       "    </tr>\n",
       "    <tr>\n",
       "      <th>439</th>\n",
       "      <td>71483.43</td>\n",
       "      <td>25152.76</td>\n",
       "      <td>11.014532</td>\n",
       "    </tr>\n",
       "    <tr>\n",
       "      <th>440</th>\n",
       "      <td>51554.73</td>\n",
       "      <td>46308.47</td>\n",
       "      <td>16.902573</td>\n",
       "    </tr>\n",
       "  </tbody>\n",
       "</table>\n",
       "<p>441 rows × 3 columns</p>\n",
       "</div>"
      ],
      "text/plain": [
       "            x         y          z\n",
       "0    44222.21  35600.90  14.974396\n",
       "1    60003.40  26172.72  14.078868\n",
       "2    44300.61  35291.79  14.261570\n",
       "3    52776.47  33453.18  15.347562\n",
       "4    49636.39  30697.34  14.422570\n",
       "..        ...       ...        ...\n",
       "436  65193.40  26832.74   9.374795\n",
       "437  50022.04  40606.42   7.636603\n",
       "438  43745.18  35114.25  14.622497\n",
       "439  71483.43  25152.76  11.014532\n",
       "440  51554.73  46308.47  16.902573\n",
       "\n",
       "[441 rows x 3 columns]"
      ]
     },
     "execution_count": 3,
     "metadata": {},
     "output_type": "execute_result"
    }
   ],
   "source": [
    "point_dataset"
   ]
  },
  {
   "cell_type": "code",
   "execution_count": 4,
   "metadata": {},
   "outputs": [
    {
     "data": {
      "text/html": [
       "<div>\n",
       "<style scoped>\n",
       "    .dataframe tbody tr th:only-of-type {\n",
       "        vertical-align: middle;\n",
       "    }\n",
       "\n",
       "    .dataframe tbody tr th {\n",
       "        vertical-align: top;\n",
       "    }\n",
       "\n",
       "    .dataframe thead th {\n",
       "        text-align: right;\n",
       "    }\n",
       "</style>\n",
       "<table border=\"1\" class=\"dataframe\">\n",
       "  <thead>\n",
       "    <tr style=\"text-align: right;\">\n",
       "      <th></th>\n",
       "      <th>x</th>\n",
       "      <th>y</th>\n",
       "      <th>z</th>\n",
       "    </tr>\n",
       "  </thead>\n",
       "  <tbody>\n",
       "    <tr>\n",
       "      <th>0</th>\n",
       "      <td>68239.21</td>\n",
       "      <td>24467.0</td>\n",
       "      <td>0.15633</td>\n",
       "    </tr>\n",
       "    <tr>\n",
       "      <th>1</th>\n",
       "      <td>68251.71</td>\n",
       "      <td>24467.0</td>\n",
       "      <td>0.15675</td>\n",
       "    </tr>\n",
       "    <tr>\n",
       "      <th>2</th>\n",
       "      <td>68264.21</td>\n",
       "      <td>24467.0</td>\n",
       "      <td>0.15718</td>\n",
       "    </tr>\n",
       "    <tr>\n",
       "      <th>3</th>\n",
       "      <td>68276.71</td>\n",
       "      <td>24467.0</td>\n",
       "      <td>0.15698</td>\n",
       "    </tr>\n",
       "    <tr>\n",
       "      <th>4</th>\n",
       "      <td>68289.21</td>\n",
       "      <td>24467.0</td>\n",
       "      <td>0.15696</td>\n",
       "    </tr>\n",
       "    <tr>\n",
       "      <th>...</th>\n",
       "      <td>...</td>\n",
       "      <td>...</td>\n",
       "      <td>...</td>\n",
       "    </tr>\n",
       "    <tr>\n",
       "      <th>1196490</th>\n",
       "      <td>53239.21</td>\n",
       "      <td>46942.0</td>\n",
       "      <td>0.16870</td>\n",
       "    </tr>\n",
       "    <tr>\n",
       "      <th>1196491</th>\n",
       "      <td>53251.71</td>\n",
       "      <td>46942.0</td>\n",
       "      <td>0.16834</td>\n",
       "    </tr>\n",
       "    <tr>\n",
       "      <th>1196492</th>\n",
       "      <td>53264.21</td>\n",
       "      <td>46942.0</td>\n",
       "      <td>0.16873</td>\n",
       "    </tr>\n",
       "    <tr>\n",
       "      <th>1196493</th>\n",
       "      <td>53276.71</td>\n",
       "      <td>46942.0</td>\n",
       "      <td>0.16878</td>\n",
       "    </tr>\n",
       "    <tr>\n",
       "      <th>1196494</th>\n",
       "      <td>53289.21</td>\n",
       "      <td>46942.0</td>\n",
       "      <td>0.16954</td>\n",
       "    </tr>\n",
       "  </tbody>\n",
       "</table>\n",
       "<p>1196495 rows × 3 columns</p>\n",
       "</div>"
      ],
      "text/plain": [
       "                x        y        z\n",
       "0        68239.21  24467.0  0.15633\n",
       "1        68251.71  24467.0  0.15675\n",
       "2        68264.21  24467.0  0.15718\n",
       "3        68276.71  24467.0  0.15698\n",
       "4        68289.21  24467.0  0.15696\n",
       "...           ...      ...      ...\n",
       "1196490  53239.21  46942.0  0.16870\n",
       "1196491  53251.71  46942.0  0.16834\n",
       "1196492  53264.21  46942.0  0.16873\n",
       "1196493  53276.71  46942.0  0.16878\n",
       "1196494  53289.21  46942.0  0.16954\n",
       "\n",
       "[1196495 rows x 3 columns]"
      ]
     },
     "execution_count": 4,
     "metadata": {},
     "output_type": "execute_result"
    }
   ],
   "source": [
    "map_1_dataset"
   ]
  },
  {
   "cell_type": "code",
   "execution_count": 5,
   "metadata": {},
   "outputs": [
    {
     "data": {
      "text/html": [
       "<div>\n",
       "<style scoped>\n",
       "    .dataframe tbody tr th:only-of-type {\n",
       "        vertical-align: middle;\n",
       "    }\n",
       "\n",
       "    .dataframe tbody tr th {\n",
       "        vertical-align: top;\n",
       "    }\n",
       "\n",
       "    .dataframe thead th {\n",
       "        text-align: right;\n",
       "    }\n",
       "</style>\n",
       "<table border=\"1\" class=\"dataframe\">\n",
       "  <thead>\n",
       "    <tr style=\"text-align: right;\">\n",
       "      <th></th>\n",
       "      <th>x</th>\n",
       "      <th>y</th>\n",
       "      <th>z</th>\n",
       "    </tr>\n",
       "  </thead>\n",
       "  <tbody>\n",
       "    <tr>\n",
       "      <th>0</th>\n",
       "      <td>68239.21</td>\n",
       "      <td>24467.0</td>\n",
       "      <td>NaN</td>\n",
       "    </tr>\n",
       "    <tr>\n",
       "      <th>1</th>\n",
       "      <td>68251.71</td>\n",
       "      <td>24467.0</td>\n",
       "      <td>NaN</td>\n",
       "    </tr>\n",
       "    <tr>\n",
       "      <th>2</th>\n",
       "      <td>68264.21</td>\n",
       "      <td>24467.0</td>\n",
       "      <td>NaN</td>\n",
       "    </tr>\n",
       "    <tr>\n",
       "      <th>3</th>\n",
       "      <td>68276.71</td>\n",
       "      <td>24467.0</td>\n",
       "      <td>NaN</td>\n",
       "    </tr>\n",
       "    <tr>\n",
       "      <th>4</th>\n",
       "      <td>68289.21</td>\n",
       "      <td>24467.0</td>\n",
       "      <td>NaN</td>\n",
       "    </tr>\n",
       "    <tr>\n",
       "      <th>...</th>\n",
       "      <td>...</td>\n",
       "      <td>...</td>\n",
       "      <td>...</td>\n",
       "    </tr>\n",
       "    <tr>\n",
       "      <th>1196585</th>\n",
       "      <td>53264.21</td>\n",
       "      <td>46942.0</td>\n",
       "      <td>NaN</td>\n",
       "    </tr>\n",
       "    <tr>\n",
       "      <th>1196586</th>\n",
       "      <td>53276.71</td>\n",
       "      <td>46942.0</td>\n",
       "      <td>NaN</td>\n",
       "    </tr>\n",
       "    <tr>\n",
       "      <th>1196587</th>\n",
       "      <td>53289.21</td>\n",
       "      <td>46942.0</td>\n",
       "      <td>NaN</td>\n",
       "    </tr>\n",
       "    <tr>\n",
       "      <th>1196588</th>\n",
       "      <td>53301.71</td>\n",
       "      <td>46942.0</td>\n",
       "      <td>NaN</td>\n",
       "    </tr>\n",
       "    <tr>\n",
       "      <th>1196589</th>\n",
       "      <td>53314.21</td>\n",
       "      <td>46942.0</td>\n",
       "      <td>NaN</td>\n",
       "    </tr>\n",
       "  </tbody>\n",
       "</table>\n",
       "<p>1196590 rows × 3 columns</p>\n",
       "</div>"
      ],
      "text/plain": [
       "                x        y   z\n",
       "0        68239.21  24467.0 NaN\n",
       "1        68251.71  24467.0 NaN\n",
       "2        68264.21  24467.0 NaN\n",
       "3        68276.71  24467.0 NaN\n",
       "4        68289.21  24467.0 NaN\n",
       "...           ...      ...  ..\n",
       "1196585  53264.21  46942.0 NaN\n",
       "1196586  53276.71  46942.0 NaN\n",
       "1196587  53289.21  46942.0 NaN\n",
       "1196588  53301.71  46942.0 NaN\n",
       "1196589  53314.21  46942.0 NaN\n",
       "\n",
       "[1196590 rows x 3 columns]"
      ]
     },
     "execution_count": 5,
     "metadata": {},
     "output_type": "execute_result"
    }
   ],
   "source": [
    "point_grid"
   ]
  },
  {
   "cell_type": "code",
   "execution_count": 6,
   "metadata": {},
   "outputs": [],
   "source": [
    "def get_subface(df: pd.DataFrame):\n",
    "    fig, ax = plt.subplots(sharex=True, sharey=True)\n",
    "\n",
    "    # Make data.\n",
    "    X = df['x']\n",
    "    Y = df['y']\n",
    "    #X, Y = np.meshgrid(X, Y)\n",
    "    Z = df['z']\n",
    "\n",
    "    # Plot the surface.\n",
    "    ax.scatter(X, Y, c=Z, s=1)\n"
   ]
  },
  {
   "cell_type": "code",
   "execution_count": 7,
   "metadata": {},
   "outputs": [
    {
     "data": {
      "image/png": "[encoded data removed]",
      "text/plain": [
       "<Figure size 640x480 with 1 Axes>"
      ]
     },
     "metadata": {},
     "output_type": "display_data"
    }
   ],
   "source": [
    "get_subface(map_1_dataset)"
   ]
  },
  {
   "cell_type": "code",
   "execution_count": null,
   "metadata": {},
   "outputs": [],
   "source": []
  },
  {
   "cell_type": "markdown",
   "metadata": {},
   "source": [
    "# Dataset"
   ]
  },
  {
   "cell_type": "code",
   "execution_count": 48,
   "metadata": {},
   "outputs": [
    {
     "name": "stdout",
     "output_type": "stream",
     "text": [
      "Index(['x', 'y', 'map_1', 'map_2'], dtype='object')\n",
      "Index(['x', 'y', 'map_1', 'map_2', 'map_3'], dtype='object')\n",
      "Index(['x', 'y', 'map_1', 'map_2', 'map_3', 'map_4'], dtype='object')\n",
      "Index(['x', 'y', 'map_1', 'map_2', 'map_3', 'map_4', 'map_5'], dtype='object')\n"
     ]
    }
   ],
   "source": [
    "df = map_1_dataset.rename(columns={'z': 'map_1'})\n",
    "# df = gpd.GeoDataFrame(df, geometry=gpd.points_from_xy(df['x'], df['y']))\n",
    "\n",
    "for idx, another_df in enumerate([map_2_dataset, map_3_dataset, map_4_dataset, map_5_dataset]):\n",
    "    another_df = another_df.rename(columns={'z': 'map_' + str(idx + 2)})\n",
    "    df = df.merge(another_df, how='outer', on=['x', 'y'])\n",
    "    print(df.columns)"
   ]
  },
  {
   "cell_type": "code",
   "execution_count": 49,
   "metadata": {},
   "outputs": [
    {
     "name": "stderr",
     "output_type": "stream",
     "text": [
      "C:\\Users\\vladi\\AppData\\Local\\Temp\\ipykernel_16112\\3123169957.py:17: PerformanceWarning: DataFrame is highly fragmented.  This is usually the result of calling `frame.insert` many times, which has poor performance.  Consider joining all columns at once using pd.concat(axis=1) instead. To get a de-fragmented frame, use `newframe = frame.copy()`\n",
      "  df[f'mean_map_{i}_in_rad{rad}'] = df_rad.mean()\n",
      "C:\\Users\\vladi\\AppData\\Local\\Temp\\ipykernel_16112\\3123169957.py:18: PerformanceWarning: DataFrame is highly fragmented.  This is usually the result of calling `frame.insert` many times, which has poor performance.  Consider joining all columns at once using pd.concat(axis=1) instead. To get a de-fragmented frame, use `newframe = frame.copy()`\n",
      "  df[f'min_map_{i}_in_rad{rad}'] = df_rad.min()\n",
      "C:\\Users\\vladi\\AppData\\Local\\Temp\\ipykernel_16112\\3123169957.py:19: PerformanceWarning: DataFrame is highly fragmented.  This is usually the result of calling `frame.insert` many times, which has poor performance.  Consider joining all columns at once using pd.concat(axis=1) instead. To get a de-fragmented frame, use `newframe = frame.copy()`\n",
      "  df[f'max_map_{i}_in_rad{rad}'] = df_rad.max()\n",
      "C:\\Users\\vladi\\AppData\\Local\\Temp\\ipykernel_16112\\3123169957.py:17: PerformanceWarning: DataFrame is highly fragmented.  This is usually the result of calling `frame.insert` many times, which has poor performance.  Consider joining all columns at once using pd.concat(axis=1) instead. To get a de-fragmented frame, use `newframe = frame.copy()`\n",
      "  df[f'mean_map_{i}_in_rad{rad}'] = df_rad.mean()\n",
      "C:\\Users\\vladi\\AppData\\Local\\Temp\\ipykernel_16112\\3123169957.py:18: PerformanceWarning: DataFrame is highly fragmented.  This is usually the result of calling `frame.insert` many times, which has poor performance.  Consider joining all columns at once using pd.concat(axis=1) instead. To get a de-fragmented frame, use `newframe = frame.copy()`\n",
      "  df[f'min_map_{i}_in_rad{rad}'] = df_rad.min()\n",
      "C:\\Users\\vladi\\AppData\\Local\\Temp\\ipykernel_16112\\3123169957.py:19: PerformanceWarning: DataFrame is highly fragmented.  This is usually the result of calling `frame.insert` many times, which has poor performance.  Consider joining all columns at once using pd.concat(axis=1) instead. To get a de-fragmented frame, use `newframe = frame.copy()`\n",
      "  df[f'max_map_{i}_in_rad{rad}'] = df_rad.max()\n",
      "C:\\Users\\vladi\\AppData\\Local\\Temp\\ipykernel_16112\\3123169957.py:17: PerformanceWarning: DataFrame is highly fragmented.  This is usually the result of calling `frame.insert` many times, which has poor performance.  Consider joining all columns at once using pd.concat(axis=1) instead. To get a de-fragmented frame, use `newframe = frame.copy()`\n",
      "  df[f'mean_map_{i}_in_rad{rad}'] = df_rad.mean()\n",
      "C:\\Users\\vladi\\AppData\\Local\\Temp\\ipykernel_16112\\3123169957.py:18: PerformanceWarning: DataFrame is highly fragmented.  This is usually the result of calling `frame.insert` many times, which has poor performance.  Consider joining all columns at once using pd.concat(axis=1) instead. To get a de-fragmented frame, use `newframe = frame.copy()`\n",
      "  df[f'min_map_{i}_in_rad{rad}'] = df_rad.min()\n",
      "C:\\Users\\vladi\\AppData\\Local\\Temp\\ipykernel_16112\\3123169957.py:19: PerformanceWarning: DataFrame is highly fragmented.  This is usually the result of calling `frame.insert` many times, which has poor performance.  Consider joining all columns at once using pd.concat(axis=1) instead. To get a de-fragmented frame, use `newframe = frame.copy()`\n",
      "  df[f'max_map_{i}_in_rad{rad}'] = df_rad.max()\n",
      "C:\\Users\\vladi\\AppData\\Local\\Temp\\ipykernel_16112\\3123169957.py:17: PerformanceWarning: DataFrame is highly fragmented.  This is usually the result of calling `frame.insert` many times, which has poor performance.  Consider joining all columns at once using pd.concat(axis=1) instead. To get a de-fragmented frame, use `newframe = frame.copy()`\n",
      "  df[f'mean_map_{i}_in_rad{rad}'] = df_rad.mean()\n",
      "C:\\Users\\vladi\\AppData\\Local\\Temp\\ipykernel_16112\\3123169957.py:18: PerformanceWarning: DataFrame is highly fragmented.  This is usually the result of calling `frame.insert` many times, which has poor performance.  Consider joining all columns at once using pd.concat(axis=1) instead. To get a de-fragmented frame, use `newframe = frame.copy()`\n",
      "  df[f'min_map_{i}_in_rad{rad}'] = df_rad.min()\n",
      "C:\\Users\\vladi\\AppData\\Local\\Temp\\ipykernel_16112\\3123169957.py:19: PerformanceWarning: DataFrame is highly fragmented.  This is usually the result of calling `frame.insert` many times, which has poor performance.  Consider joining all columns at once using pd.concat(axis=1) instead. To get a de-fragmented frame, use `newframe = frame.copy()`\n",
      "  df[f'max_map_{i}_in_rad{rad}'] = df_rad.max()\n",
      "C:\\Users\\vladi\\AppData\\Local\\Temp\\ipykernel_16112\\3123169957.py:17: PerformanceWarning: DataFrame is highly fragmented.  This is usually the result of calling `frame.insert` many times, which has poor performance.  Consider joining all columns at once using pd.concat(axis=1) instead. To get a de-fragmented frame, use `newframe = frame.copy()`\n",
      "  df[f'mean_map_{i}_in_rad{rad}'] = df_rad.mean()\n",
      "C:\\Users\\vladi\\AppData\\Local\\Temp\\ipykernel_16112\\3123169957.py:18: PerformanceWarning: DataFrame is highly fragmented.  This is usually the result of calling `frame.insert` many times, which has poor performance.  Consider joining all columns at once using pd.concat(axis=1) instead. To get a de-fragmented frame, use `newframe = frame.copy()`\n",
      "  df[f'min_map_{i}_in_rad{rad}'] = df_rad.min()\n",
      "C:\\Users\\vladi\\AppData\\Local\\Temp\\ipykernel_16112\\3123169957.py:19: PerformanceWarning: DataFrame is highly fragmented.  This is usually the result of calling `frame.insert` many times, which has poor performance.  Consider joining all columns at once using pd.concat(axis=1) instead. To get a de-fragmented frame, use `newframe = frame.copy()`\n",
      "  df[f'max_map_{i}_in_rad{rad}'] = df_rad.max()\n",
      "C:\\Users\\vladi\\AppData\\Local\\Temp\\ipykernel_16112\\3123169957.py:17: PerformanceWarning: DataFrame is highly fragmented.  This is usually the result of calling `frame.insert` many times, which has poor performance.  Consider joining all columns at once using pd.concat(axis=1) instead. To get a de-fragmented frame, use `newframe = frame.copy()`\n",
      "  df[f'mean_map_{i}_in_rad{rad}'] = df_rad.mean()\n",
      "C:\\Users\\vladi\\AppData\\Local\\Temp\\ipykernel_16112\\3123169957.py:18: PerformanceWarning: DataFrame is highly fragmented.  This is usually the result of calling `frame.insert` many times, which has poor performance.  Consider joining all columns at once using pd.concat(axis=1) instead. To get a de-fragmented frame, use `newframe = frame.copy()`\n",
      "  df[f'min_map_{i}_in_rad{rad}'] = df_rad.min()\n",
      "C:\\Users\\vladi\\AppData\\Local\\Temp\\ipykernel_16112\\3123169957.py:19: PerformanceWarning: DataFrame is highly fragmented.  This is usually the result of calling `frame.insert` many times, which has poor performance.  Consider joining all columns at once using pd.concat(axis=1) instead. To get a de-fragmented frame, use `newframe = frame.copy()`\n",
      "  df[f'max_map_{i}_in_rad{rad}'] = df_rad.max()\n",
      "C:\\Users\\vladi\\AppData\\Local\\Temp\\ipykernel_16112\\3123169957.py:17: PerformanceWarning: DataFrame is highly fragmented.  This is usually the result of calling `frame.insert` many times, which has poor performance.  Consider joining all columns at once using pd.concat(axis=1) instead. To get a de-fragmented frame, use `newframe = frame.copy()`\n",
      "  df[f'mean_map_{i}_in_rad{rad}'] = df_rad.mean()\n",
      "C:\\Users\\vladi\\AppData\\Local\\Temp\\ipykernel_16112\\3123169957.py:18: PerformanceWarning: DataFrame is highly fragmented.  This is usually the result of calling `frame.insert` many times, which has poor performance.  Consider joining all columns at once using pd.concat(axis=1) instead. To get a de-fragmented frame, use `newframe = frame.copy()`\n",
      "  df[f'min_map_{i}_in_rad{rad}'] = df_rad.min()\n",
      "C:\\Users\\vladi\\AppData\\Local\\Temp\\ipykernel_16112\\3123169957.py:19: PerformanceWarning: DataFrame is highly fragmented.  This is usually the result of calling `frame.insert` many times, which has poor performance.  Consider joining all columns at once using pd.concat(axis=1) instead. To get a de-fragmented frame, use `newframe = frame.copy()`\n",
      "  df[f'max_map_{i}_in_rad{rad}'] = df_rad.max()\n",
      "C:\\Users\\vladi\\AppData\\Local\\Temp\\ipykernel_16112\\3123169957.py:17: PerformanceWarning: DataFrame is highly fragmented.  This is usually the result of calling `frame.insert` many times, which has poor performance.  Consider joining all columns at once using pd.concat(axis=1) instead. To get a de-fragmented frame, use `newframe = frame.copy()`\n",
      "  df[f'mean_map_{i}_in_rad{rad}'] = df_rad.mean()\n",
      "C:\\Users\\vladi\\AppData\\Local\\Temp\\ipykernel_16112\\3123169957.py:18: PerformanceWarning: DataFrame is highly fragmented.  This is usually the result of calling `frame.insert` many times, which has poor performance.  Consider joining all columns at once using pd.concat(axis=1) instead. To get a de-fragmented frame, use `newframe = frame.copy()`\n",
      "  df[f'min_map_{i}_in_rad{rad}'] = df_rad.min()\n",
      "C:\\Users\\vladi\\AppData\\Local\\Temp\\ipykernel_16112\\3123169957.py:19: PerformanceWarning: DataFrame is highly fragmented.  This is usually the result of calling `frame.insert` many times, which has poor performance.  Consider joining all columns at once using pd.concat(axis=1) instead. To get a de-fragmented frame, use `newframe = frame.copy()`\n",
      "  df[f'max_map_{i}_in_rad{rad}'] = df_rad.max()\n",
      "C:\\Users\\vladi\\AppData\\Local\\Temp\\ipykernel_16112\\3123169957.py:17: PerformanceWarning: DataFrame is highly fragmented.  This is usually the result of calling `frame.insert` many times, which has poor performance.  Consider joining all columns at once using pd.concat(axis=1) instead. To get a de-fragmented frame, use `newframe = frame.copy()`\n",
      "  df[f'mean_map_{i}_in_rad{rad}'] = df_rad.mean()\n",
      "C:\\Users\\vladi\\AppData\\Local\\Temp\\ipykernel_16112\\3123169957.py:18: PerformanceWarning: DataFrame is highly fragmented.  This is usually the result of calling `frame.insert` many times, which has poor performance.  Consider joining all columns at once using pd.concat(axis=1) instead. To get a de-fragmented frame, use `newframe = frame.copy()`\n",
      "  df[f'min_map_{i}_in_rad{rad}'] = df_rad.min()\n",
      "C:\\Users\\vladi\\AppData\\Local\\Temp\\ipykernel_16112\\3123169957.py:19: PerformanceWarning: DataFrame is highly fragmented.  This is usually the result of calling `frame.insert` many times, which has poor performance.  Consider joining all columns at once using pd.concat(axis=1) instead. To get a de-fragmented frame, use `newframe = frame.copy()`\n",
      "  df[f'max_map_{i}_in_rad{rad}'] = df_rad.max()\n"
     ]
    }
   ],
   "source": [
    "## доп фичи ##\n",
    "for i in range(1, 6):\n",
    "    for j in range(1, 6):\n",
    "        df[f'mul_map_{i}_{j}'] = df[f'map_{i}'] * df[f'map_{j}']\n",
    "        if i != j:\n",
    "            df[f'sub_map_{i}_{j}'] = df[f'map_{i}'] - df[f'map_{j}']\n",
    "            df[f'add_map_{i}_{j}'] = df[f'map_{i}'] + df[f'map_{j}']\n",
    "\n",
    "for i in range(1, 6):\n",
    "    df[f'mean_map_{i}'] = df[f'map_{i}'].mean()\n",
    "    df[f'min_map_{i}'] = df[f'map_{i}'].min()\n",
    "    df[f'max_map_{i}'] = df[f'map_{i}'].max()\n",
    "\n",
    "for i in range(1, 6):\n",
    "    for rad in [11, 101, 1001]:\n",
    "        df_rad = df['map_1'].rolling(rad, center=True)\n",
    "        df[f'mean_map_{i}_in_rad{rad}'] = df_rad.mean()\n",
    "        df[f'min_map_{i}_in_rad{rad}'] = df_rad.min()\n",
    "        df[f'max_map_{i}_in_rad{rad}'] = df_rad.max()\n",
    "#############\n",
    "\n",
    "df = df.copy()"
   ]
  },
  {
   "cell_type": "code",
   "execution_count": 90,
   "metadata": {},
   "outputs": [],
   "source": [
    "LABEL_COL = 'f1'\n",
    "\n",
    "def generate_dataset(df, point_dataset, label_col=LABEL_COL, keep_coords=True, how='left', max_distance=1000, max_degree=2):\n",
    "    df_ = gpd.GeoDataFrame(df, geometry=gpd.points_from_xy(df['x'], df['y']))\n",
    "    point_gdf = gpd.GeoDataFrame(point_dataset, geometry=gpd.points_from_xy(point_dataset['x'], point_dataset['y']))\n",
    "    \n",
    "    if keep_coords:\n",
    "        point_gdf = point_gdf.rename(columns={'x': f'x_{label_col}', 'y': f'y_{label_col}', 'z': label_col})\n",
    "\n",
    "        feat_num = 0\n",
    "        for degree in range(2, max_degree + 1):\n",
    "            for t in combinations_with_replacement([f'x_{label_col}', f'y_{label_col}'], degree):\n",
    "                point_gdf[f'coord_{feat_num}'] = 1\n",
    "                for feat in t:\n",
    "                    point_gdf[f'coord_{feat_num}'] *= point_gdf[feat]\n",
    "                feat_num += 1\n",
    "    else:\n",
    "        point_gdf = point_gdf.drop(columns=['x', 'y']).rename(columns={'z': label_col})\n",
    "    \n",
    "    df_ = df_.sjoin_nearest(point_gdf, how=how, max_distance=max_distance, distance_col='distance')\n",
    "\n",
    "    return df_[df_[f'x_{label_col}'].notna()]\\\n",
    "        .drop(columns=['geometry', 'index_right' if how in ['left', 'inner'] else 'index_left'])"
   ]
  },
  {
   "cell_type": "code",
   "execution_count": null,
   "metadata": {},
   "outputs": [],
   "source": []
  },
  {
   "cell_type": "code",
   "execution_count": 47,
   "metadata": {},
   "outputs": [
    {
     "name": "stdout",
     "output_type": "stream",
     "text": [
      "Index(['x', 'y', 'map_1', 'map_2'], dtype='object')\n",
      "Index(['x', 'y', 'map_1', 'map_2', 'map_3'], dtype='object')\n",
      "Index(['x', 'y', 'map_1', 'map_2', 'map_3', 'map_4'], dtype='object')\n",
      "Index(['x', 'y', 'map_1', 'map_2', 'map_3', 'map_4', 'map_5'], dtype='object')\n"
     ]
    }
   ],
   "source": [
    "df2 = map_1_dataset.rename(columns={'z': 'map_1'})\n",
    "# df = gpd.GeoDataFrame(df, geometry=gpd.points_from_xy(df['x'], df['y']))\n",
    "\n",
    "for idx, another_df in enumerate([map_2_dataset, map_3_dataset, map_4_dataset, map_5_dataset]):\n",
    "    another_df = another_df.rename(columns={'z': 'map_' + str(idx + 2)})\n",
    "    df2 = df2.merge(another_df, how='outer', on=['x', 'y'])\n",
    "    print(df.columns)"
   ]
  },
  {
   "cell_type": "code",
   "execution_count": 156,
   "metadata": {},
   "outputs": [
    {
     "data": {
      "text/plain": [
       "(array([[6.54071115e-01, 2.65537787e-01, 1.73288778e-06, ...,\n",
       "         7.05064091e-02, 2.80034934e-04, 1.11223313e-06],\n",
       "        [6.54147000e-01, 2.65513693e-01, 1.72970129e-06, ...,\n",
       "         7.04936144e-02, 2.44079545e-04, 8.45109516e-07],\n",
       "        [6.54223712e-01, 2.65489944e-01, 1.72024329e-06, ...,\n",
       "         7.04810044e-02, 2.08138080e-04, 6.14654415e-07],\n",
       "        ...,\n",
       "        [5.25524743e-01, 4.72696763e-01, 1.65136154e-06, ...,\n",
       "         2.22638327e-01, 4.15259914e-04, 7.74533292e-07],\n",
       "        [5.25617034e-01, 4.72665222e-01, 1.65135323e-06, ...,\n",
       "         2.22608617e-01, 4.34399902e-04, 8.47690791e-07],\n",
       "        [5.25709000e-01, 4.72633405e-01, 1.64981578e-06, ...,\n",
       "         2.22578649e-01, 4.60625548e-04, 9.53262573e-07]]),\n",
       " 886        18.350161\n",
       " 887        18.350161\n",
       " 888        18.350161\n",
       " 889        18.350161\n",
       " 890        18.350161\n",
       "              ...    \n",
       " 1187949    16.902573\n",
       " 1187950    16.902573\n",
       " 1187951    16.902573\n",
       " 1187952    16.902573\n",
       " 1187953    16.902573\n",
       " Name: f1, Length: 37424, dtype: float64)"
      ]
     },
     "execution_count": 156,
     "metadata": {},
     "output_type": "execute_result"
    }
   ],
   "source": [
    "LABEL_COL = 'f1'\n",
    "\n",
    "def generate_poly_dataset(df, point_dataset, label_col=LABEL_COL, keep_coords=True, how='left', train=False, degree=2, max_distance=1000):\n",
    "    df_ = gpd.GeoDataFrame(df, geometry=gpd.points_from_xy(df['x'], df['y']))\n",
    "    point_gdf = gpd.GeoDataFrame(point_dataset, geometry=gpd.points_from_xy(point_dataset['x'], point_dataset['y']))\n",
    "    \n",
    "    if keep_coords:\n",
    "        point_gdf = point_gdf.rename(columns={'x': f'x_{label_col}', 'y': f'y_{label_col}', 'z': label_col})\n",
    "    else:\n",
    "        point_gdf = point_gdf.drop(columns=['x', 'y']).rename(columns={'z': label_col})\n",
    "    \n",
    "    df_ = df_.sjoin_nearest(point_gdf, how=how, max_distance=max_distance, distance_col='distance')\n",
    "    df_ = df_[df_[f'x_{label_col}'].notna()]\\\n",
    "        .drop(columns=['geometry', 'index_right' if how in ['left', 'inner'] else 'index_left'])\n",
    "\n",
    "    feature_cols = [col for col in df_.columns if col != label_col]\n",
    "    X, y = df_[feature_cols], df_[label_col]\n",
    "\n",
    "    if train:\n",
    "        imputer.fit(X)\n",
    "    X = imputer.transform(X)\n",
    "\n",
    "    if train:\n",
    "        norm.fit(X)\n",
    "    X = norm.transform(X)\n",
    "\n",
    "    poly = PolynomialFeatures(degree=degree, include_bias=False)\n",
    "    poly_features = poly.fit_transform(X[:, -2:])\n",
    "\n",
    "    features = np.hstack((X[:, :-2], poly_features))\n",
    "\n",
    "    return features, y\n",
    "\n",
    "\n",
    "norm = Normalizer()\n",
    "imputer = SimpleImputer(missing_values=np.nan, strategy='mean')\n",
    "generate_poly_dataset(df2, point_dataset, train=True, degree=2, max_distance=100)"
   ]
  },
  {
   "cell_type": "markdown",
   "metadata": {},
   "source": [
    "# Training"
   ]
  },
  {
   "cell_type": "code",
   "execution_count": 82,
   "metadata": {},
   "outputs": [],
   "source": [
    "param = {\n",
    "    'objective': 'regression',\n",
    "    'task': 'train',\n",
    "    'num_iterations': 300,\n",
    "    'learning_rate': 0.1,\n",
    "    'num_leaves': 31,\n",
    "    'num_threads': 4,\n",
    "    'metric': 'mae,mape',\n",
    "    'min_data_in_leaf': 300,\n",
    "}\n",
    "\n",
    "def train(train_df, test_df=None, label_col=LABEL_COL, params=param):\n",
    "    feature_cols = [col for col in train_df.columns if col != label_col]\n",
    "    train_data = lgb.Dataset(train_df[feature_cols], label=train_df[label_col])\n",
    "    \n",
    "    model = lgb.train(params, train_data, keep_training_booster=True)\n",
    "    \n",
    "    if test_df is not None:\n",
    "        test_data = lgb.Dataset(test_df[feature_cols], label=test_df[label_col], reference=train_data)\n",
    "        results = model.eval(test_data, 'eval')\n",
    "\n",
    "        results_dict = {}\n",
    "        for r in results:\n",
    "            results_dict[r[1]] = r[2]\n",
    "    else:\n",
    "        results_dict = None\n",
    "\n",
    "    return results_dict, model\n",
    "\n",
    "def dummy_train(train_df, test_df=None, label_col=LABEL_COL):\n",
    "    feature_cols = [col for col in train_df.columns if col != label_col]\n",
    "\n",
    "    train_data = train_df[feature_cols]\n",
    "    labels = train_df[label_col]\n",
    "\n",
    "    model = DummyRegressor()\n",
    "    model.fit(train_data, labels)\n",
    "\n",
    "    if test_df is not None:\n",
    "        test_data = test_df[feature_cols]\n",
    "        test_labels = test_df[label_col]\n",
    "\n",
    "        preds = model.predict(test_data)\n",
    "\n",
    "        results_dict = {}\n",
    "        results_dict['l1'] = mean_absolute_error(test_labels, preds)\n",
    "        results_dict['mape'] = mean_absolute_percentage_error(test_labels, preds)\n",
    "    else:\n",
    "        results_dict = None\n",
    "    \n",
    "    return results_dict, model\n",
    "\n",
    "def lin_train(train_data, test_data=None, label_col=LABEL_COL):\n",
    "\n",
    "    train_data, labels = train_data\n",
    "\n",
    "    model = LinearRegression()\n",
    "    model.fit(train_data, labels)\n",
    "\n",
    "    if test_data is not None:\n",
    "        test_data, test_labels = test_data\n",
    "\n",
    "        preds = model.predict(test_data)\n",
    "\n",
    "        results_dict = {}\n",
    "        results_dict['l1'] = mean_absolute_error(test_labels, preds)\n",
    "        results_dict['mape'] = mean_absolute_percentage_error(test_labels, preds)\n",
    "    else:\n",
    "        results_dict = None\n",
    "    \n",
    "    return results_dict, model"
   ]
  },
  {
   "cell_type": "markdown",
   "metadata": {},
   "source": [
    "## Бейзлайн"
   ]
  },
  {
   "cell_type": "code",
   "execution_count": 171,
   "metadata": {},
   "outputs": [
    {
     "name": "stdout",
     "output_type": "stream",
     "text": [
      "Fold 0\n",
      "Fold 1\n",
      "Fold 2\n",
      "Fold 3\n",
      "Fold 4\n"
     ]
    }
   ],
   "source": [
    "kf = KFold(n_splits=5, random_state=0, shuffle=True)\n",
    "\n",
    "cv_results = []\n",
    "\n",
    "for i, (train_index, test_index) in enumerate(kf.split(point_dataset)):\n",
    "    print(f'Fold {i}')\n",
    "\n",
    "    train_points = point_dataset.iloc[train_index]\n",
    "    test_points = point_dataset.iloc[test_index]\n",
    "\n",
    "    train_df = generate_dataset(df, train_points, max_distance=100)\n",
    "    test_df = generate_dataset(df, test_points, max_distance=100)\n",
    "\n",
    "    results = dummy_train(train_df, test_df)[0]\n",
    "\n",
    "    cv_results.append(pd.DataFrame([results]))\n",
    "\n",
    "cv_results_df = pd.concat(cv_results)"
   ]
  },
  {
   "cell_type": "code",
   "execution_count": 172,
   "metadata": {},
   "outputs": [
    {
     "data": {
      "text/html": [
       "<div>\n",
       "<style scoped>\n",
       "    .dataframe tbody tr th:only-of-type {\n",
       "        vertical-align: middle;\n",
       "    }\n",
       "\n",
       "    .dataframe tbody tr th {\n",
       "        vertical-align: top;\n",
       "    }\n",
       "\n",
       "    .dataframe thead th {\n",
       "        text-align: right;\n",
       "    }\n",
       "</style>\n",
       "<table border=\"1\" class=\"dataframe\">\n",
       "  <thead>\n",
       "    <tr style=\"text-align: right;\">\n",
       "      <th></th>\n",
       "      <th>l1</th>\n",
       "      <th>mape</th>\n",
       "    </tr>\n",
       "  </thead>\n",
       "  <tbody>\n",
       "    <tr>\n",
       "      <th>0</th>\n",
       "      <td>2.254009</td>\n",
       "      <td>0.186219</td>\n",
       "    </tr>\n",
       "    <tr>\n",
       "      <th>0</th>\n",
       "      <td>2.658283</td>\n",
       "      <td>0.229919</td>\n",
       "    </tr>\n",
       "    <tr>\n",
       "      <th>0</th>\n",
       "      <td>2.286618</td>\n",
       "      <td>0.186590</td>\n",
       "    </tr>\n",
       "    <tr>\n",
       "      <th>0</th>\n",
       "      <td>2.501846</td>\n",
       "      <td>0.205010</td>\n",
       "    </tr>\n",
       "    <tr>\n",
       "      <th>0</th>\n",
       "      <td>2.568596</td>\n",
       "      <td>0.224036</td>\n",
       "    </tr>\n",
       "  </tbody>\n",
       "</table>\n",
       "</div>"
      ],
      "text/plain": [
       "         l1      mape\n",
       "0  2.254009  0.186219\n",
       "0  2.658283  0.229919\n",
       "0  2.286618  0.186590\n",
       "0  2.501846  0.205010\n",
       "0  2.568596  0.224036"
      ]
     },
     "execution_count": 172,
     "metadata": {},
     "output_type": "execute_result"
    }
   ],
   "source": [
    "cv_results_df"
   ]
  },
  {
   "cell_type": "code",
   "execution_count": 173,
   "metadata": {},
   "outputs": [
    {
     "name": "stdout",
     "output_type": "stream",
     "text": [
      "l1 2.4538702884907346\n",
      "mape 0.20635480187211952\n"
     ]
    }
   ],
   "source": [
    "print('l1', cv_results_df['l1'].mean())\n",
    "print('mape', cv_results_df['mape'].mean())"
   ]
  },
  {
   "cell_type": "code",
   "execution_count": null,
   "metadata": {},
   "outputs": [],
   "source": []
  },
  {
   "cell_type": "markdown",
   "metadata": {},
   "source": [
    "## Linear"
   ]
  },
  {
   "cell_type": "code",
   "execution_count": 158,
   "metadata": {},
   "outputs": [
    {
     "name": "stdout",
     "output_type": "stream",
     "text": [
      "Fold 0\n",
      "Fold 1\n",
      "Fold 2\n",
      "Fold 3\n",
      "Fold 4\n"
     ]
    }
   ],
   "source": [
    "kf = KFold(n_splits=5, random_state=0, shuffle=True)\n",
    "\n",
    "cv_results = []\n",
    "\n",
    "for i, (train_index, test_index) in enumerate(kf.split(point_dataset)):\n",
    "    print(f'Fold {i}')\n",
    "\n",
    "    train_points = point_dataset.iloc[train_index]\n",
    "    test_points = point_dataset.iloc[test_index]\n",
    "\n",
    "    train_data = generate_poly_dataset(df2, train_points, degree=2, max_distance=100)\n",
    "    test_data = generate_poly_dataset(df2, test_points, degree=2, max_distance=100)\n",
    "\n",
    "    results = lin_train(train_data, test_data)[0]\n",
    "\n",
    "    cv_results.append(pd.DataFrame([results]))\n",
    "\n",
    "cv_results_df = pd.concat(cv_results)"
   ]
  },
  {
   "cell_type": "code",
   "execution_count": 159,
   "metadata": {},
   "outputs": [
    {
     "data": {
      "text/html": [
       "<div>\n",
       "<style scoped>\n",
       "    .dataframe tbody tr th:only-of-type {\n",
       "        vertical-align: middle;\n",
       "    }\n",
       "\n",
       "    .dataframe tbody tr th {\n",
       "        vertical-align: top;\n",
       "    }\n",
       "\n",
       "    .dataframe thead th {\n",
       "        text-align: right;\n",
       "    }\n",
       "</style>\n",
       "<table border=\"1\" class=\"dataframe\">\n",
       "  <thead>\n",
       "    <tr style=\"text-align: right;\">\n",
       "      <th></th>\n",
       "      <th>l1</th>\n",
       "      <th>mape</th>\n",
       "    </tr>\n",
       "  </thead>\n",
       "  <tbody>\n",
       "    <tr>\n",
       "      <th>0</th>\n",
       "      <td>1.271228</td>\n",
       "      <td>0.096758</td>\n",
       "    </tr>\n",
       "    <tr>\n",
       "      <th>0</th>\n",
       "      <td>1.120248</td>\n",
       "      <td>0.092270</td>\n",
       "    </tr>\n",
       "    <tr>\n",
       "      <th>0</th>\n",
       "      <td>1.052002</td>\n",
       "      <td>0.081437</td>\n",
       "    </tr>\n",
       "    <tr>\n",
       "      <th>0</th>\n",
       "      <td>1.038893</td>\n",
       "      <td>0.082514</td>\n",
       "    </tr>\n",
       "    <tr>\n",
       "      <th>0</th>\n",
       "      <td>1.065794</td>\n",
       "      <td>0.084067</td>\n",
       "    </tr>\n",
       "  </tbody>\n",
       "</table>\n",
       "</div>"
      ],
      "text/plain": [
       "         l1      mape\n",
       "0  1.271228  0.096758\n",
       "0  1.120248  0.092270\n",
       "0  1.052002  0.081437\n",
       "0  1.038893  0.082514\n",
       "0  1.065794  0.084067"
      ]
     },
     "execution_count": 159,
     "metadata": {},
     "output_type": "execute_result"
    }
   ],
   "source": [
    "cv_results_df"
   ]
  },
  {
   "cell_type": "code",
   "execution_count": 160,
   "metadata": {},
   "outputs": [
    {
     "name": "stdout",
     "output_type": "stream",
     "text": [
      "l1 1.109633231148405\n",
      "mape 0.08740925788435043\n"
     ]
    }
   ],
   "source": [
    "print('l1', cv_results_df['l1'].mean())\n",
    "print('mape', cv_results_df['mape'].mean())"
   ]
  },
  {
   "cell_type": "markdown",
   "metadata": {},
   "source": [
    "## LightGBM"
   ]
  },
  {
   "cell_type": "code",
   "execution_count": 91,
   "metadata": {},
   "outputs": [],
   "source": [
    "param = {\n",
    "    'objective': 'regression',\n",
    "    'task': 'train',\n",
    "    'num_iterations': 300,\n",
    "    'learning_rate': 0.1,\n",
    "    'num_leaves': 31,\n",
    "    'num_threads': 4,\n",
    "    'metric': 'mae,mape',\n",
    "    'min_data_in_leaf': 500,\n",
    "}"
   ]
  },
  {
   "cell_type": "code",
   "execution_count": 92,
   "metadata": {},
   "outputs": [
    {
     "name": "stdout",
     "output_type": "stream",
     "text": [
      "Fold 0\n"
     ]
    },
    {
     "name": "stderr",
     "output_type": "stream",
     "text": [
      "C:\\Users\\vladi\\AppData\\Local\\pypoetry\\Cache\\virtualenvs\\solution-vCZUITkw-py3.10\\lib\\site-packages\\lightgbm\\engine.py:172: UserWarning: Found `num_iterations` in params. Will use it instead of argument\n",
      "  _log_warning(f\"Found `{alias}` in params. Will use it instead of argument\")\n"
     ]
    },
    {
     "name": "stdout",
     "output_type": "stream",
     "text": [
      "[LightGBM] [Info] Auto-choosing col-wise multi-threading, the overhead of testing was 0.029300 seconds.\n",
      "You can set `force_col_wise=true` to remove the overhead.\n",
      "[LightGBM] [Info] Total Bins 31105\n",
      "[LightGBM] [Info] Number of data points in the train set: 30395, number of used features: 123\n",
      "[LightGBM] [Info] Start training from score 13.144583\n",
      "Fold 1\n"
     ]
    },
    {
     "name": "stderr",
     "output_type": "stream",
     "text": [
      "C:\\Users\\vladi\\AppData\\Local\\pypoetry\\Cache\\virtualenvs\\solution-vCZUITkw-py3.10\\lib\\site-packages\\lightgbm\\engine.py:172: UserWarning: Found `num_iterations` in params. Will use it instead of argument\n",
      "  _log_warning(f\"Found `{alias}` in params. Will use it instead of argument\")\n"
     ]
    },
    {
     "name": "stdout",
     "output_type": "stream",
     "text": [
      "[LightGBM] [Info] Auto-choosing col-wise multi-threading, the overhead of testing was 0.035691 seconds.\n",
      "You can set `force_col_wise=true` to remove the overhead.\n",
      "[LightGBM] [Info] Total Bins 31115\n",
      "[LightGBM] [Info] Number of data points in the train set: 30518, number of used features: 123\n",
      "[LightGBM] [Info] Start training from score 13.181344\n",
      "Fold 2\n"
     ]
    },
    {
     "name": "stderr",
     "output_type": "stream",
     "text": [
      "C:\\Users\\vladi\\AppData\\Local\\pypoetry\\Cache\\virtualenvs\\solution-vCZUITkw-py3.10\\lib\\site-packages\\lightgbm\\engine.py:172: UserWarning: Found `num_iterations` in params. Will use it instead of argument\n",
      "  _log_warning(f\"Found `{alias}` in params. Will use it instead of argument\")\n"
     ]
    },
    {
     "name": "stdout",
     "output_type": "stream",
     "text": [
      "[LightGBM] [Info] Auto-choosing col-wise multi-threading, the overhead of testing was 0.015981 seconds.\n",
      "You can set `force_col_wise=true` to remove the overhead.\n",
      "[LightGBM] [Info] Total Bins 31151\n",
      "[LightGBM] [Info] Number of data points in the train set: 30539, number of used features: 123\n",
      "[LightGBM] [Info] Start training from score 13.179438\n",
      "Fold 3\n"
     ]
    },
    {
     "name": "stderr",
     "output_type": "stream",
     "text": [
      "C:\\Users\\vladi\\AppData\\Local\\pypoetry\\Cache\\virtualenvs\\solution-vCZUITkw-py3.10\\lib\\site-packages\\lightgbm\\engine.py:172: UserWarning: Found `num_iterations` in params. Will use it instead of argument\n",
      "  _log_warning(f\"Found `{alias}` in params. Will use it instead of argument\")\n"
     ]
    },
    {
     "name": "stdout",
     "output_type": "stream",
     "text": [
      "[LightGBM] [Info] Auto-choosing col-wise multi-threading, the overhead of testing was 0.032738 seconds.\n",
      "You can set `force_col_wise=true` to remove the overhead.\n",
      "[LightGBM] [Info] Total Bins 31203\n",
      "[LightGBM] [Info] Number of data points in the train set: 31401, number of used features: 123\n",
      "[LightGBM] [Info] Start training from score 13.105506\n",
      "Fold 4\n"
     ]
    },
    {
     "name": "stderr",
     "output_type": "stream",
     "text": [
      "C:\\Users\\vladi\\AppData\\Local\\pypoetry\\Cache\\virtualenvs\\solution-vCZUITkw-py3.10\\lib\\site-packages\\lightgbm\\engine.py:172: UserWarning: Found `num_iterations` in params. Will use it instead of argument\n",
      "  _log_warning(f\"Found `{alias}` in params. Will use it instead of argument\")\n"
     ]
    },
    {
     "name": "stdout",
     "output_type": "stream",
     "text": [
      "[LightGBM] [Info] Auto-choosing col-wise multi-threading, the overhead of testing was 0.026245 seconds.\n",
      "You can set `force_col_wise=true` to remove the overhead.\n",
      "[LightGBM] [Info] Total Bins 31170\n",
      "[LightGBM] [Info] Number of data points in the train set: 31045, number of used features: 123\n",
      "[LightGBM] [Info] Start training from score 13.236682\n"
     ]
    }
   ],
   "source": [
    "kf = KFold(n_splits=5, random_state=0, shuffle=True)\n",
    "\n",
    "cv_results = []\n",
    "\n",
    "for i, (train_index, test_index) in enumerate(kf.split(point_dataset)):\n",
    "    print(f'Fold {i}')\n",
    "\n",
    "    train_points = point_dataset.iloc[train_index]\n",
    "    test_points = point_dataset.iloc[test_index]\n",
    "\n",
    "    train_df = generate_dataset(df, train_points, max_distance=100)\n",
    "    test_df = generate_dataset(df, test_points, max_distance=100)\n",
    "\n",
    "    results = train(train_df, test_df)[0]\n",
    "\n",
    "    cv_results.append(pd.DataFrame([results]))\n",
    "\n",
    "cv_results_df = pd.concat(cv_results)"
   ]
  },
  {
   "cell_type": "code",
   "execution_count": 93,
   "metadata": {},
   "outputs": [
    {
     "data": {
      "text/html": [
       "<div>\n",
       "<style scoped>\n",
       "    .dataframe tbody tr th:only-of-type {\n",
       "        vertical-align: middle;\n",
       "    }\n",
       "\n",
       "    .dataframe tbody tr th {\n",
       "        vertical-align: top;\n",
       "    }\n",
       "\n",
       "    .dataframe thead th {\n",
       "        text-align: right;\n",
       "    }\n",
       "</style>\n",
       "<table border=\"1\" class=\"dataframe\">\n",
       "  <thead>\n",
       "    <tr style=\"text-align: right;\">\n",
       "      <th></th>\n",
       "      <th>l1</th>\n",
       "      <th>mape</th>\n",
       "    </tr>\n",
       "  </thead>\n",
       "  <tbody>\n",
       "    <tr>\n",
       "      <th>0</th>\n",
       "      <td>0.738642</td>\n",
       "      <td>0.056707</td>\n",
       "    </tr>\n",
       "    <tr>\n",
       "      <th>0</th>\n",
       "      <td>0.740112</td>\n",
       "      <td>0.064383</td>\n",
       "    </tr>\n",
       "    <tr>\n",
       "      <th>0</th>\n",
       "      <td>0.686147</td>\n",
       "      <td>0.053840</td>\n",
       "    </tr>\n",
       "    <tr>\n",
       "      <th>0</th>\n",
       "      <td>0.602642</td>\n",
       "      <td>0.047419</td>\n",
       "    </tr>\n",
       "    <tr>\n",
       "      <th>0</th>\n",
       "      <td>0.609779</td>\n",
       "      <td>0.049046</td>\n",
       "    </tr>\n",
       "  </tbody>\n",
       "</table>\n",
       "</div>"
      ],
      "text/plain": [
       "         l1      mape\n",
       "0  0.738642  0.056707\n",
       "0  0.740112  0.064383\n",
       "0  0.686147  0.053840\n",
       "0  0.602642  0.047419\n",
       "0  0.609779  0.049046"
      ]
     },
     "execution_count": 93,
     "metadata": {},
     "output_type": "execute_result"
    }
   ],
   "source": [
    "cv_results_df"
   ]
  },
  {
   "cell_type": "code",
   "execution_count": 94,
   "metadata": {},
   "outputs": [
    {
     "name": "stdout",
     "output_type": "stream",
     "text": [
      "l1 0.6754645600434005\n",
      "mape 0.05427874628603972\n"
     ]
    }
   ],
   "source": [
    "print('l1', cv_results_df['l1'].mean())\n",
    "print('mape', cv_results_df['mape'].mean())"
   ]
  },
  {
   "cell_type": "code",
   "execution_count": null,
   "metadata": {},
   "outputs": [],
   "source": []
  },
  {
   "cell_type": "markdown",
   "metadata": {},
   "source": [
    "## Тренировка на всех данных"
   ]
  },
  {
   "cell_type": "code",
   "execution_count": 95,
   "metadata": {},
   "outputs": [
    {
     "name": "stderr",
     "output_type": "stream",
     "text": [
      "C:\\Users\\vladi\\AppData\\Local\\pypoetry\\Cache\\virtualenvs\\solution-vCZUITkw-py3.10\\lib\\site-packages\\lightgbm\\engine.py:172: UserWarning: Found `num_iterations` in params. Will use it instead of argument\n",
      "  _log_warning(f\"Found `{alias}` in params. Will use it instead of argument\")\n"
     ]
    },
    {
     "name": "stdout",
     "output_type": "stream",
     "text": [
      "[LightGBM] [Info] Auto-choosing col-wise multi-threading, the overhead of testing was 0.026835 seconds.\n",
      "You can set `force_col_wise=true` to remove the overhead.\n",
      "[LightGBM] [Info] Total Bins 31217\n",
      "[LightGBM] [Info] Number of data points in the train set: 37424, number of used features: 123\n",
      "[LightGBM] [Info] Start training from score 13.192251\n"
     ]
    }
   ],
   "source": [
    "all_df = generate_dataset(df, point_dataset, max_distance=100)\n",
    "_, model = train(all_df, None) # lightgbm\n",
    "# _, model = dummy_train(all_df, None) # dummy"
   ]
  },
  {
   "cell_type": "code",
   "execution_count": 96,
   "metadata": {},
   "outputs": [
    {
     "data": {
      "text/plain": [
       "[('x_f1', 1047),\n",
       " ('coord_1', 1041),\n",
       " ('y_f1', 952),\n",
       " ('map_5', 493),\n",
       " ('mean_map_1_in_rad1001', 379),\n",
       " ('x', 366),\n",
       " ('min_map_1_in_rad101', 356),\n",
       " ('sub_map_2_5', 301),\n",
       " ('max_map_1_in_rad101', 300),\n",
       " ('mean_map_1_in_rad101', 277),\n",
       " ('min_map_1_in_rad1001', 240),\n",
       " ('sub_map_5_2', 236),\n",
       " ('max_map_1_in_rad1001', 233),\n",
       " ('y', 221),\n",
       " ('add_map_2_5', 197),\n",
       " ('min_map_1_in_rad11', 175),\n",
       " ('mul_map_2_3', 165),\n",
       " ('mul_map_2_4', 160),\n",
       " ('map_2', 156),\n",
       " ('max_map_1_in_rad11', 150)]"
      ]
     },
     "execution_count": 96,
     "metadata": {},
     "output_type": "execute_result"
    }
   ],
   "source": [
    "feats = list(zip(model.feature_name(), model.feature_importance()))\n",
    "feats.sort(key=lambda x: x[1], reverse=True)\n",
    "feats[:20]"
   ]
  },
  {
   "cell_type": "markdown",
   "metadata": {},
   "source": [
    "# Predict"
   ]
  },
  {
   "cell_type": "code",
   "execution_count": 99,
   "metadata": {},
   "outputs": [],
   "source": [
    "predict_dataset = generate_dataset(df, point_grid, how='right')\n",
    "predict_dataset = predict_dataset.drop_duplicates(['x_f1', 'y_f1'], keep='first').copy()"
   ]
  },
  {
   "cell_type": "code",
   "execution_count": 100,
   "metadata": {},
   "outputs": [],
   "source": [
    "feature_cols = [col for col in predict_dataset.columns if col != LABEL_COL]\n",
    "predict_data = predict_dataset[feature_cols]"
   ]
  },
  {
   "cell_type": "code",
   "execution_count": 101,
   "metadata": {},
   "outputs": [],
   "source": [
    "preds = model.predict(predict_data)\n",
    "predict_dataset['f1'] = preds"
   ]
  },
  {
   "cell_type": "code",
   "execution_count": 102,
   "metadata": {},
   "outputs": [],
   "source": [
    "point_grid_ = point_grid.merge(predict_dataset[['x_f1', 'y_f1', 'f1']], left_on=['x', 'y'], right_on=['x_f1', 'y_f1'])\n",
    "point_grid_['z'] = point_grid_['f1']\n",
    "point_grid = point_grid_.drop(columns=['x_f1', 'y_f1', 'f1'])"
   ]
  },
  {
   "cell_type": "code",
   "execution_count": 103,
   "metadata": {},
   "outputs": [
    {
     "data": {
      "text/html": [
       "<div>\n",
       "<style scoped>\n",
       "    .dataframe tbody tr th:only-of-type {\n",
       "        vertical-align: middle;\n",
       "    }\n",
       "\n",
       "    .dataframe tbody tr th {\n",
       "        vertical-align: top;\n",
       "    }\n",
       "\n",
       "    .dataframe thead th {\n",
       "        text-align: right;\n",
       "    }\n",
       "</style>\n",
       "<table border=\"1\" class=\"dataframe\">\n",
       "  <thead>\n",
       "    <tr style=\"text-align: right;\">\n",
       "      <th></th>\n",
       "      <th>x</th>\n",
       "      <th>y</th>\n",
       "      <th>z</th>\n",
       "    </tr>\n",
       "  </thead>\n",
       "  <tbody>\n",
       "    <tr>\n",
       "      <th>0</th>\n",
       "      <td>68239.21</td>\n",
       "      <td>24467.0</td>\n",
       "      <td>13.924448</td>\n",
       "    </tr>\n",
       "    <tr>\n",
       "      <th>1</th>\n",
       "      <td>68251.71</td>\n",
       "      <td>24467.0</td>\n",
       "      <td>13.920965</td>\n",
       "    </tr>\n",
       "    <tr>\n",
       "      <th>2</th>\n",
       "      <td>68264.21</td>\n",
       "      <td>24467.0</td>\n",
       "      <td>13.920965</td>\n",
       "    </tr>\n",
       "    <tr>\n",
       "      <th>3</th>\n",
       "      <td>68276.71</td>\n",
       "      <td>24467.0</td>\n",
       "      <td>13.920965</td>\n",
       "    </tr>\n",
       "    <tr>\n",
       "      <th>4</th>\n",
       "      <td>68289.21</td>\n",
       "      <td>24467.0</td>\n",
       "      <td>13.920965</td>\n",
       "    </tr>\n",
       "    <tr>\n",
       "      <th>...</th>\n",
       "      <td>...</td>\n",
       "      <td>...</td>\n",
       "      <td>...</td>\n",
       "    </tr>\n",
       "    <tr>\n",
       "      <th>1196585</th>\n",
       "      <td>53264.21</td>\n",
       "      <td>46942.0</td>\n",
       "      <td>14.664265</td>\n",
       "    </tr>\n",
       "    <tr>\n",
       "      <th>1196586</th>\n",
       "      <td>53276.71</td>\n",
       "      <td>46942.0</td>\n",
       "      <td>14.640158</td>\n",
       "    </tr>\n",
       "    <tr>\n",
       "      <th>1196587</th>\n",
       "      <td>53289.21</td>\n",
       "      <td>46942.0</td>\n",
       "      <td>15.246321</td>\n",
       "    </tr>\n",
       "    <tr>\n",
       "      <th>1196588</th>\n",
       "      <td>53301.71</td>\n",
       "      <td>46942.0</td>\n",
       "      <td>8.203958</td>\n",
       "    </tr>\n",
       "    <tr>\n",
       "      <th>1196589</th>\n",
       "      <td>53314.21</td>\n",
       "      <td>46942.0</td>\n",
       "      <td>8.203958</td>\n",
       "    </tr>\n",
       "  </tbody>\n",
       "</table>\n",
       "<p>1196590 rows × 3 columns</p>\n",
       "</div>"
      ],
      "text/plain": [
       "                x        y          z\n",
       "0        68239.21  24467.0  13.924448\n",
       "1        68251.71  24467.0  13.920965\n",
       "2        68264.21  24467.0  13.920965\n",
       "3        68276.71  24467.0  13.920965\n",
       "4        68289.21  24467.0  13.920965\n",
       "...           ...      ...        ...\n",
       "1196585  53264.21  46942.0  14.664265\n",
       "1196586  53276.71  46942.0  14.640158\n",
       "1196587  53289.21  46942.0  15.246321\n",
       "1196588  53301.71  46942.0   8.203958\n",
       "1196589  53314.21  46942.0   8.203958\n",
       "\n",
       "[1196590 rows x 3 columns]"
      ]
     },
     "execution_count": 103,
     "metadata": {},
     "output_type": "execute_result"
    }
   ],
   "source": [
    "point_grid"
   ]
  },
  {
   "cell_type": "code",
   "execution_count": 104,
   "metadata": {},
   "outputs": [],
   "source": [
    "export_dataset_to_file(point_grid, '../Data/Result.txt')"
   ]
  },
  {
   "cell_type": "code",
   "execution_count": null,
   "metadata": {},
   "outputs": [],
   "source": []
  }
 ],
 "metadata": {
  "kernelspec": {
   "display_name": "Python 3 (ipykernel)",
   "language": "python",
   "name": "python3"
  },
  "language_info": {
   "codemirror_mode": {
    "name": "ipython",
    "version": 3
   },
   "file_extension": ".py",
   "mimetype": "text/x-python",
   "name": "python",
   "nbconvert_exporter": "python",
   "pygments_lexer": "ipython3",
   "version": "3.10.9"
  },
  "orig_nbformat": 4
 },
 "nbformat": 4,
 "nbformat_minor": 2
}
